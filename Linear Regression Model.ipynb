{
 "cells": [
  {
   "cell_type": "code",
   "execution_count": 3,
   "metadata": {},
   "outputs": [],
   "source": [
    "import tensorflow as tf\n",
    "\n",
    "#y = Wx + b\n",
    "x_train = [1.0,2.0,3.0,4.0]\n",
    "y_train = [-1.0,-2.0,-3.0,-4.0]\n",
    "\n",
    "W = tf.Variable(initial_value=[1.0], dtype=tf.float32)\n",
    "b = tf.Variable(initial_value=[1.0], dtype=tf.float32)\n",
    "x = tf.placeholder(dtype=tf.float32)\n",
    "\n",
    "y_input = tf.placeholder(dtype=tf.float32)\n",
    "y_output = W * x + b\n",
    "\n"
   ]
  },
  {
   "cell_type": "code",
   "execution_count": 4,
   "metadata": {},
   "outputs": [
    {
     "name": "stdout",
     "output_type": "stream",
     "text": [
      "164.0\n",
      "[3.1441516e-12, array([-1.0000007], dtype=float32), array([2.0641437e-06], dtype=float32)]\n",
      "testing model\n",
      "[ -5.000002 -10.000006]\n"
     ]
    }
   ],
   "source": [
    "loss = tf.reduce_sum(input_tensor=tf.square(x=y_output - y_input))\n",
    "optimizer = tf.train.GradientDescentOptimizer(learning_rate=0.01)\n",
    "train_step = optimizer.minimize(loss=loss)\n",
    "\n",
    "session = tf.Session()\n",
    "session.run(tf.global_variables_initializer())\n",
    "\n",
    "# Print loss before training\n",
    "print(session.run(fetches=loss, feed_dict={x:x_train, y_input:y_train}))\n",
    "\n",
    "for _ in range(1000):\n",
    "    session.run(fetches = train_step, feed_dict={x:x_train, y_input:y_train})\n",
    "\n",
    "# Print loss, w and b after training\n",
    "print(session.run(fetches=[loss, W, b], feed_dict={x:x_train, y_input:y_train}))\n",
    "\n",
    "# Test the model\n",
    "print(\"testing model\")\n",
    "print(session.run(fetches=y_output, feed_dict={x:[5.0,10.0]}))"
   ]
  },
  {
   "cell_type": "code",
   "execution_count": null,
   "metadata": {},
   "outputs": [],
   "source": []
  }
 ],
 "metadata": {
  "kernelspec": {
   "display_name": "Python 3",
   "language": "python",
   "name": "python3"
  },
  "language_info": {
   "codemirror_mode": {
    "name": "ipython",
    "version": 3
   },
   "file_extension": ".py",
   "mimetype": "text/x-python",
   "name": "python",
   "nbconvert_exporter": "python",
   "pygments_lexer": "ipython3",
   "version": "3.7.0"
  }
 },
 "nbformat": 4,
 "nbformat_minor": 2
}
