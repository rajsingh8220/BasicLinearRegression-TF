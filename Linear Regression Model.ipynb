{
 "cells": [
  {
   "cell_type": "code",
   "execution_count": 1,
   "metadata": {},
   "outputs": [
    {
     "ename": "ModuleNotFoundError",
     "evalue": "No module named 'tensorflow'",
     "output_type": "error",
     "traceback": [
      "\u001b[1;31m---------------------------------------------------------------------------\u001b[0m",
      "\u001b[1;31mModuleNotFoundError\u001b[0m                       Traceback (most recent call last)",
      "\u001b[1;32m<ipython-input-1-7535758a168b>\u001b[0m in \u001b[0;36m<module>\u001b[1;34m\u001b[0m\n\u001b[1;32m----> 1\u001b[1;33m \u001b[1;32mimport\u001b[0m \u001b[0mtensorflow\u001b[0m \u001b[1;32mas\u001b[0m \u001b[0mtf\u001b[0m\u001b[1;33m\u001b[0m\u001b[1;33m\u001b[0m\u001b[0m\n\u001b[0m\u001b[0;32m      2\u001b[0m \u001b[1;33m\u001b[0m\u001b[0m\n\u001b[0;32m      3\u001b[0m \u001b[1;31m# y = Wx + b\u001b[0m\u001b[1;33m\u001b[0m\u001b[1;33m\u001b[0m\u001b[1;33m\u001b[0m\u001b[0m\n\u001b[0;32m      4\u001b[0m \u001b[1;33m\u001b[0m\u001b[0m\n\u001b[0;32m      5\u001b[0m \u001b[1;31m# Training data, given x_train as inputs, we expect y_train as outputs\u001b[0m\u001b[1;33m\u001b[0m\u001b[1;33m\u001b[0m\u001b[1;33m\u001b[0m\u001b[0m\n",
      "\u001b[1;31mModuleNotFoundError\u001b[0m: No module named 'tensorflow'"
     ]
    }
   ],
   "source": [
    "import tensorflow as tf\n",
    "\n",
    "# y = Wx + b\n",
    "\n",
    "# Training data, given x_train as inputs, we expect y_train as outputs\n",
    "x_train = [1.0, 2.0, 3.0, 4.0]\n",
    "y_train = [-1.0, -2.0, -3.0, -4.0]\n",
    "\n",
    "# Graph construction\n",
    "# W and b are variables that our model will change\n",
    "W = tf.Variable(initial_value=[1.0], dtype=tf.float32, name='W')\n",
    "b = tf.Variable(initial_value=[1.0], dtype=tf.float32, name='b')\n",
    "\n",
    "# x is an input placeholder and y is a placeholder used to tell model what correct answers are\n",
    "x = tf.placeholder(dtype=tf.float32, name='x')\n",
    "y_input = tf.placeholder(dtype=tf.float32, name='y_input')\n",
    "\n",
    "# y_output is the formula we are trying to follow to produce an output given input from x\n",
    "# y_output = W * x + b\n",
    "y_output = tf.add(x=tf.multiply(x=W, y=x, name='multiply'), y=b, name='y_output')\n",
    "\n",
    "# Loss function and optimizer aim to minimize the difference between actual and expected outputs (total sums)\n",
    "loss = tf.reduce_sum(input_tensor=tf.square(x=y_output - y_input), name='loss')\n",
    "optimizer = tf.train.GradientDescentOptimizer(learning_rate=0.01, name='optimizer')\n",
    "train_step = optimizer.minimize(loss=loss, name='train_step')\n",
    "\n",
    "saver = tf.train.Saver()\n",
    "\n",
    "# Sessions are used to evaluate the tensor value of a node or nodes\n",
    "session = tf.Session()\n",
    "session.run(tf.global_variables_initializer())\n",
    "\n",
    "tf.train.write_graph(graph_or_graph_def=session.graph_def,\n",
    "                     logdir='.',\n",
    "                     name='linear_regression.pbtxt',\n",
    "                     as_text=False)\n",
    "\n",
    "# Total loss before training\n",
    "print(session.run(fetches=loss, feed_dict={x: x_train, y_input: y_train}))\n",
    "\n",
    "# Training phase, run the train step 1000 times\n",
    "for _ in range(1000):\n",
    "    session.run(fetches=train_step, feed_dict={x: x_train, y_input: y_train})\n",
    "\n",
    "saver.save(sess=session,\n",
    "           save_path='linear_regression.ckpt')\n",
    "\n",
    "# Total loss and modified W and b values after training\n",
    "print(session.run(fetches=[loss, W, b], feed_dict={x: x_train, y_input: y_train}))\n",
    "\n",
    "# Test the model with some new values\n",
    "print(session.run(fetches=y_output, feed_dict={x: [5.0, 10.0, 15.0]}))\n"
   ]
  },
  {
   "cell_type": "code",
   "execution_count": 17,
   "metadata": {},
   "outputs": [
    {
     "name": "stdout",
     "output_type": "stream",
     "text": [
      "164.0\n",
      "[3.1441516e-12, array([-1.0000007], dtype=float32), array([2.0641437e-06], dtype=float32)]\n",
      "testing model\n",
      "[ -5.000002 -10.000006]\n"
     ]
    }
   ],
   "source": []
  },
  {
   "cell_type": "code",
   "execution_count": 18,
   "metadata": {},
   "outputs": [],
   "source": [
    "# Freeze Graph"
   ]
  },
  {
   "cell_type": "code",
   "execution_count": 19,
   "metadata": {},
   "outputs": [],
   "source": [
    "from tensorflow.python.tools import freeze_graph, optimize_for_inference_lib\n",
    "\n",
    "freeze_graph.freeze_graph(input_graph='linear_regression.pbtxt',\n",
    "                          input_saver='',\n",
    "                          input_binary=True,\n",
    "                          input_checkpoint='linear_regression.ckpt',\n",
    "                          output_node_names='y_output',\n",
    "                          restore_op_name='save/restore_all',\n",
    "                          filename_tensor_name='save/Const:0',\n",
    "                          output_graph='frozen_linear_regression.pb',\n",
    "                          clear_devices=True,\n",
    "                          initializer_nodes='',\n",
    "                          variable_names_blacklist='')\n",
    "\n",
    "input_graph_def = tf.GraphDef()\n",
    "with tf.gfile.Open('frozen_linear_regression.pb', 'rb') as f:\n",
    "    data = f.read()\n",
    "    input_graph_def.ParseFromString(data)\n",
    "\n",
    "output_graph_def = optimize_for_inference_lib.optimize_for_inference(input_graph_def=input_graph_def,\n",
    "                                                                     input_node_names=['x'],\n",
    "                                                                     output_node_names=['y_output'],\n",
    "                                                                     placeholder_type_enum=tf.float32.as_datatype_enum)\n",
    "\n",
    "f = tf.gfile.FastGFile(name='optimized_frozen_linear_regression.pb',\n",
    "                       mode='w')\n",
    "f.write(file_content=output_graph_def.SerializeToString())\n"
   ]
  },
  {
   "cell_type": "code",
   "execution_count": 20,
   "metadata": {},
   "outputs": [
    {
     "name": "stdout",
     "output_type": "stream",
     "text": [
      "INFO:tensorflow:Restoring parameters from linear_regression.ckpt\n",
      "INFO:tensorflow:Froze 2 variables.\n",
      "INFO:tensorflow:Converted 2 variables to const ops.\n"
     ]
    }
   ],
   "source": []
  },
  {
   "cell_type": "code",
   "execution_count": null,
   "metadata": {},
   "outputs": [],
   "source": []
  }
 ],
 "metadata": {
  "kernelspec": {
   "display_name": "Python 3",
   "language": "python",
   "name": "python3"
  },
  "language_info": {
   "codemirror_mode": {
    "name": "ipython",
    "version": 3
   },
   "file_extension": ".py",
   "mimetype": "text/x-python",
   "name": "python",
   "nbconvert_exporter": "python",
   "pygments_lexer": "ipython3",
   "version": "3.7.1"
  }
 },
 "nbformat": 4,
 "nbformat_minor": 2
}
