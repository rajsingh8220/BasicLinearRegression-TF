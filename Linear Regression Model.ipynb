{
 "cells": [
  {
   "cell_type": "code",
   "execution_count": 16,
   "metadata": {},
   "outputs": [],
   "source": [
    "import tensorflow as tf\n",
    "\n",
    "#y = Wx + b\n",
    "x_train = [1.0,2.0,3.0,4.0]\n",
    "y_train = [-1.0,-2.0,-3.0,-4.0]\n",
    "\n",
    "W = tf.Variable(initial_value=[1.0], dtype=tf.float32, name='W')\n",
    "b = tf.Variable(initial_value=[1.0], dtype=tf.float32, name='b')\n",
    "x = tf.placeholder(dtype=tf.float32, name='x')\n",
    "\n",
    "y_input = tf.placeholder(dtype=tf.float32, name='y_input')\n",
    "#y_output = W * x + b\n",
    "y_output = tf.add(x=tf.multiply(x=W, y=x,name='multiply'), y=b, name='y_output')\n",
    "\n"
   ]
  },
  {
   "cell_type": "code",
   "execution_count": 17,
   "metadata": {},
   "outputs": [
    {
     "name": "stdout",
     "output_type": "stream",
     "text": [
      "164.0\n",
      "[3.1441516e-12, array([-1.0000007], dtype=float32), array([2.0641437e-06], dtype=float32)]\n",
      "testing model\n",
      "[ -5.000002 -10.000006]\n"
     ]
    }
   ],
   "source": [
    "loss = tf.reduce_sum(input_tensor=tf.square(x=y_output - y_input), name='loss')\n",
    "optimizer = tf.train.GradientDescentOptimizer(learning_rate=0.01, name='optimizer')\n",
    "train_step = optimizer.minimize(loss=loss, name='train_step')\n",
    "\n",
    "saver = tf.train.Saver()\n",
    "\n",
    "session = tf.Session()\n",
    "session.run(tf.global_variables_initializer())\n",
    "\n",
    "\n",
    "tf.train.write_graph(graph_or_graph_def=session.graph_def, \n",
    "                     logdir='.', \n",
    "                     name='linear_regression.pbtxt', \n",
    "                     as_text=False)\n",
    "# Print loss before training\n",
    "print(session.run(fetches=loss, feed_dict={x:x_train, y_input:y_train}))\n",
    "\n",
    "for _ in range(1000):\n",
    "    session.run(fetches = train_step, feed_dict={x:x_train, y_input:y_train})\n",
    "\n",
    "saver.save(sess = session,\n",
    "          save_path='linear_regression.ckpt')\n",
    "# Print loss, w and b after training\n",
    "print(session.run(fetches=[loss, W, b], feed_dict={x:x_train, y_input:y_train}))\n",
    "\n",
    "# Test the model\n",
    "print(\"testing model\")\n",
    "print(session.run(fetches=y_output, feed_dict={x:[5.0,10.0]}))"
   ]
  },
  {
   "cell_type": "code",
   "execution_count": 18,
   "metadata": {},
   "outputs": [],
   "source": [
    "# Freeze Graph"
   ]
  },
  {
   "cell_type": "code",
   "execution_count": 19,
   "metadata": {},
   "outputs": [],
   "source": [
    "from tensorflow.python.tools import freeze_graph, optimize_for_inference_lib"
   ]
  },
  {
   "cell_type": "code",
   "execution_count": 20,
   "metadata": {},
   "outputs": [
    {
     "name": "stdout",
     "output_type": "stream",
     "text": [
      "INFO:tensorflow:Restoring parameters from linear_regression.ckpt\n",
      "INFO:tensorflow:Froze 2 variables.\n",
      "INFO:tensorflow:Converted 2 variables to const ops.\n"
     ]
    }
   ],
   "source": [
    "freeze_graph.freeze_graph(input_graph='linear_regression.pbtxt',\n",
    "                         input_saver='',\n",
    "                         input_binary=True,\n",
    "                         input_checkpoint='linear_regression.ckpt',\n",
    "                         output_node_names='y_output',\n",
    "                         restore_op_name='save/restore_all',\n",
    "                         filename_tensor_name='save/Const:0',\n",
    "                         output_graph='frozen_linear_regression.pb',\n",
    "                         clear_devices=True,\n",
    "                         initializer_nodes='',\n",
    "                         variable_names_blacklist='')\n",
    "\n",
    "input_graph_def = tf.GraphDef()\n",
    "with tf.gfile.Open('frozen_linear_regression.pb', 'rb') as f:\n",
    "    data = f.read()\n",
    "    input_graph_def.ParseFromString(data)\n",
    "    \n",
    "output_graph_def = optimize_for_inference_lib.optimize_for_inference(input_graph_def=input_graph_def,\n",
    "                                                                        input_node_names=['x'],\n",
    "                                                                        output_node_names=['y_output'],\n",
    "                                                                        placeholder_type_enum=tf.float32.as_datatype_enum)\n",
    "    \n",
    "f = tf.gfile.FastGFile(name='optimized_frozen_linear_regression.pb',\n",
    "                      mode='w')\n",
    "\n",
    "f.write(file_content=output_graph_def.SerializeToString())"
   ]
  },
  {
   "cell_type": "code",
   "execution_count": null,
   "metadata": {},
   "outputs": [],
   "source": []
  }
 ],
 "metadata": {
  "kernelspec": {
   "display_name": "Python 3",
   "language": "python",
   "name": "python3"
  },
  "language_info": {
   "codemirror_mode": {
    "name": "ipython",
    "version": 3
   },
   "file_extension": ".py",
   "mimetype": "text/x-python",
   "name": "python",
   "nbconvert_exporter": "python",
   "pygments_lexer": "ipython3",
   "version": "3.7.0"
  }
 },
 "nbformat": 4,
 "nbformat_minor": 2
}
